{
 "cells": [
  {
   "cell_type": "code",
   "execution_count": null,
   "id": "bbfa2c54-c1f1-4241-bc27-91fc1b1265bf",
   "metadata": {},
   "outputs": [],
   "source": [
    "# %%\n",
    "####################\n",
    "## ASSIGN REVIEWS ##\n",
    "####################\n",
    "# Imports\n",
    "import numpy as np\n",
    "import pandas as pd\n",
    "import duckdb\n",
    "\n",
    "import sys\n",
    "sys.path.append(\"..\")\n",
    "from assign_reviews import create_objective_fun, create_lb_ub, create_constraints, solve_milp, format_and_output_result"
   ]
  },
  {
   "cell_type": "markdown",
   "id": "ad38296b-0b09-4c67-bff3-37943db918b1",
   "metadata": {},
   "source": [
    "# Start script"
   ]
  },
  {
   "cell_type": "code",
   "execution_count": null,
   "id": "1b72db3b-80e4-41b5-992c-e01edc0c223e",
   "metadata": {},
   "outputs": [],
   "source": [
    "mkdir output"
   ]
  },
  {
   "cell_type": "code",
   "execution_count": null,
   "id": "1e0ec716-20a4-470b-9aea-5dc5853be804",
   "metadata": {},
   "outputs": [],
   "source": [
    "ASSIGN_TUTORIALS_TO_ANYONE = False\n",
    "TUTORIAL_COEFF = 0.8\n",
    "\n",
    "DEBUG = True\n",
    "\n",
    "database_file = \"../data/assign_reviews_031024.db\"\n",
    "con = duckdb.connect(database_file)\n",
    "df_submissions = con.sql(\"table submissions_to_assign\").df()\n",
    "df_reviewers = con.sql(\"table reviewers_to_assign\").df()\n",
    "\n",
    "df_submissions = df_submissions.assign(assigned_reviewer_ids=[[]] * len(df_submissions))\n",
    "df_reviewers = df_reviewers.assign(assigned_submission_ids=[[]] * len(df_reviewers))\n",
    "\n",
    "len(df_submissions), len(df_reviewers)"
   ]
  },
  {
   "cell_type": "code",
   "execution_count": null,
   "id": "ef711304-a232-4b5f-a5f2-08ae410c8d62",
   "metadata": {},
   "outputs": [],
   "source": [
    "df_submissions[df_submissions.track==\"TUT\"]"
   ]
  },
  {
   "cell_type": "markdown",
   "id": "34384f90-6f5a-42b6-b6d6-b27c756ee9b8",
   "metadata": {},
   "source": [
    "## Assign tutorial reviewers"
   ]
  },
  {
   "cell_type": "code",
   "execution_count": null,
   "id": "e6e46cab-603a-4c28-8d75-bcbf982cdb56",
   "metadata": {},
   "outputs": [],
   "source": [
    "MIN_TUTORIALS_PER_PERSON = 0\n",
    "MAX_TUTORIALS_PER_PERSON = 5\n",
    "MIN_REVIEWERS_PER_TUTORIAL = 3\n",
    "MAX_REVIEWERS_PER_TUTORIAL = 4\n",
    "\n",
    "df_submissions_tutorials = df_submissions[df_submissions.track==\"TUT\"]\n",
    "\n",
    "solution = solve_milp(\n",
    "    df_reviewers,\n",
    "    df_submissions_tutorials,\n",
    "    MIN_TUTORIALS_PER_PERSON,\n",
    "    MAX_TUTORIALS_PER_PERSON,\n",
    "    MIN_REVIEWERS_PER_TUTORIAL,\n",
    "    MAX_REVIEWERS_PER_TUTORIAL,\n",
    "    TUTORIAL_COEFF,\n",
    "    ASSIGN_TUTORIALS_TO_ANYONE\n",
    ")\n",
    "reviewers, submissions = format_and_output_result(df_reviewers, df_submissions_tutorials, solution, post_fix=\"00\")"
   ]
  },
  {
   "cell_type": "code",
   "execution_count": null,
   "id": "7109479e-3e56-4ef0-9f17-1be5e9d6f7f9",
   "metadata": {},
   "outputs": [],
   "source": [
    "df = pd.DataFrame(reviewers)\n",
    "df"
   ]
  },
  {
   "cell_type": "code",
   "execution_count": null,
   "id": "029c405c-48fb-4598-896e-e0227e9b6987",
   "metadata": {},
   "outputs": [],
   "source": [
    "df_reviewers_with_tut = df_reviewers.assign(assigned_submission_ids=df.assigned_submission_ids)\n",
    "df_reviewers_with_tut"
   ]
  },
  {
   "cell_type": "code",
   "execution_count": null,
   "id": "9ee582a7-e840-4273-ae03-aa88d1912157",
   "metadata": {},
   "outputs": [],
   "source": [
    "con.sql(\"select * from df_reviewers_with_tut\")"
   ]
  },
  {
   "cell_type": "code",
   "execution_count": null,
   "id": "9c3195a4-2baf-4dd0-a7b3-62ce193e00fc",
   "metadata": {},
   "outputs": [],
   "source": [
    "con.sql(\"create or replace table reviewer_assignments_00 as select * from df_reviewers_with_tut\")"
   ]
  },
  {
   "cell_type": "code",
   "execution_count": null,
   "id": "1f2fcddf-8573-4ce5-9e33-ab3c2ff73cc5",
   "metadata": {},
   "outputs": [],
   "source": [
    "df = pd.DataFrame(submissions)\n",
    "df"
   ]
  },
  {
   "cell_type": "code",
   "execution_count": null,
   "id": "03146222-8257-446e-820c-89710391d08d",
   "metadata": {},
   "outputs": [],
   "source": [
    "con.sql(\"\"\"\n",
    "create or replace table submission_assignments_00 as\n",
    "select df_submissions.submission_id, df_submissions.author_ids, df_submissions.track,\n",
    "list_concat(df_submissions.assigned_reviewer_ids, df.assigned_reviewer_ids) as assigned_reviewer_ids\n",
    "from df_submissions\n",
    "left join df on df.submission_id = df_submissions.submission_id\n",
    "\"\"\")\n",
    "con.sql(\"table submission_assignments_00\")"
   ]
  },
  {
   "cell_type": "markdown",
   "id": "d303b378-63ff-405c-aaf1-4af51f09bfea",
   "metadata": {},
   "source": [
    "## Assign talk reviewers"
   ]
  },
  {
   "cell_type": "code",
   "execution_count": null,
   "id": "e9695336-6696-4dc3-86eb-9d0eea82bcea",
   "metadata": {},
   "outputs": [],
   "source": [
    "df_reviewers_with_tut[df_reviewers_with_tut.assigned_submission_ids.apply(len) == 0]"
   ]
  },
  {
   "cell_type": "code",
   "execution_count": null,
   "id": "0174c6e7-0feb-4073-9ee7-0f994439dd2c",
   "metadata": {},
   "outputs": [],
   "source": [
    "MIN_REVIEWS_PER_PERSON = 5\n",
    "MAX_REVIEWS_PER_PERSON = 9\n",
    "MIN_REVIEWERS_PER_SUBMISSION = 2\n",
    "MAX_REVIEWERS_PER_SUBMISSION = 4\n",
    "\n",
    "df_reviewers_no_submissions = df_reviewers_with_tut[df_reviewers_with_tut.assigned_submission_ids.apply(len) == 0]\n",
    "df_submissions_no_tutorials = df_submissions[df_submissions.track!=\"TUT\"]\n",
    "\n",
    "solution = solve_milp(\n",
    "    df_reviewers_no_submissions,\n",
    "    df_submissions_no_tutorials,\n",
    "    MIN_REVIEWS_PER_PERSON,\n",
    "    MAX_REVIEWS_PER_PERSON,\n",
    "    MIN_REVIEWERS_PER_SUBMISSION,\n",
    "    MAX_REVIEWERS_PER_SUBMISSION,\n",
    "    TUTORIAL_COEFF,\n",
    "    ASSIGN_TUTORIALS_TO_ANYONE\n",
    ")\n",
    "if solution is not None:\n",
    "    reviewers, submissions = format_and_output_result(df_reviewers_no_submissions, df_submissions_no_tutorials, solution, post_fix=\"01\")"
   ]
  },
  {
   "cell_type": "code",
   "execution_count": null,
   "id": "941e4ea6-e3d0-4da5-bb32-9c1bbb6698bf",
   "metadata": {},
   "outputs": [],
   "source": [
    "df_reviewers_with_tut"
   ]
  },
  {
   "cell_type": "code",
   "execution_count": null,
   "id": "e56630ab-54b5-4c81-a91b-0ee795f6ac35",
   "metadata": {},
   "outputs": [],
   "source": [
    "df = pd.DataFrame(reviewers)[[\"reviewer_id\", \"assigned_submission_ids\"]]"
   ]
  },
  {
   "cell_type": "code",
   "execution_count": null,
   "id": "aa3bc6b2-00a1-4c63-b8c4-816bce8ecead",
   "metadata": {},
   "outputs": [],
   "source": [
    "df"
   ]
  },
  {
   "cell_type": "code",
   "execution_count": null,
   "id": "d4a8cf52-4eba-4231-a779-fcfcd4ae3387",
   "metadata": {},
   "outputs": [],
   "source": [
    "con.sql(\"\"\"\n",
    "create or replace table reviewer_assignments_01 as\n",
    "select\n",
    "    df_reviewers_with_tut.reviewer_id, tracks, conflicts_submission_ids,\n",
    "    list_concat(df_reviewers_with_tut.assigned_submission_ids, df.assigned_submission_ids) as assigned_submission_ids\n",
    "from df_reviewers_with_tut\n",
    "left join df on df.reviewer_id = df_reviewers_with_tut.reviewer_id\n",
    "\"\"\")\n",
    "con.sql(\"table reviewer_assignments_01\")"
   ]
  },
  {
   "cell_type": "code",
   "execution_count": null,
   "id": "656b2edc-0374-4c66-b7aa-19fb315c73d1",
   "metadata": {},
   "outputs": [],
   "source": [
    "df = pd.DataFrame(submissions)\n",
    "df"
   ]
  },
  {
   "cell_type": "code",
   "execution_count": null,
   "id": "9a1716c3-d879-4d91-9aae-69601f372f77",
   "metadata": {},
   "outputs": [],
   "source": [
    "con.sql(\"\"\"\n",
    "create or replace table submission_assignments_01 as\n",
    "select submission_assignments_00.submission_id, submission_assignments_00.author_ids, submission_assignments_00.track,\n",
    "list_concat(submission_assignments_00.assigned_reviewer_ids, df.assigned_reviewer_ids) as assigned_reviewer_ids\n",
    "from submission_assignments_00\n",
    "left join df on df.submission_id = submission_assignments_00.submission_id\n",
    "\"\"\")\n",
    "con.sql(\"table submission_assignments_01\")"
   ]
  },
  {
   "cell_type": "code",
   "execution_count": null,
   "id": "d2cc2801-c6c5-417a-9f5d-cf60ee8d3dc7",
   "metadata": {},
   "outputs": [],
   "source": [
    "df = pd.DataFrame(submissions)\n",
    "df = df.assign(num_reviewers=df.assigned_reviewer_ids.apply(len))\n",
    "df[df.num_reviewers>2]\n",
    "df[df.num_reviewers==2]"
   ]
  },
  {
   "cell_type": "markdown",
   "id": "b7c3c63e-908b-474a-ab02-02873b89b942",
   "metadata": {},
   "source": [
    "## Assign talks to tutorial reviewers"
   ]
  },
  {
   "cell_type": "code",
   "execution_count": null,
   "id": "b1e3d00e-f3bd-4166-b00d-10c9c5c4c2ec",
   "metadata": {},
   "outputs": [],
   "source": [
    "df = pd.DataFrame(submissions)\n",
    "df = df.assign(num_reviewers=df.assigned_reviewer_ids.apply(len))\n",
    "df_submissions_few_reviewers = df[df.num_reviewers==2]"
   ]
  },
  {
   "cell_type": "code",
   "execution_count": null,
   "id": "2afdf9a9-b4bd-4cbf-b8ec-9148236cc53f",
   "metadata": {},
   "outputs": [],
   "source": [
    "MIN_REVIEWS_PER_PERSON = 0\n",
    "MAX_REVIEWS_PER_PERSON = 4\n",
    "MIN_REVIEWERS_PER_SUBMISSION = 1\n",
    "MAX_REVIEWERS_PER_SUBMISSION = 2\n",
    "\n",
    "df_reviewers_only_tut = df_reviewers_with_tut[df_reviewers_with_tut.assigned_submission_ids.apply(len) > 0]\n",
    "\n",
    "solution = solve_milp(\n",
    "    df_reviewers_only_tut,\n",
    "    df_submissions_few_reviewers,\n",
    "    MIN_REVIEWS_PER_PERSON,\n",
    "    MAX_REVIEWS_PER_PERSON,\n",
    "    MIN_REVIEWERS_PER_SUBMISSION,\n",
    "    MAX_REVIEWERS_PER_SUBMISSION,\n",
    "    TUTORIAL_COEFF,\n",
    "    ASSIGN_TUTORIALS_TO_ANYONE\n",
    ")\n",
    "\n",
    "if solution is not None:\n",
    "    reviewers, submissions = format_and_output_result(df_reviewers_only_tut, df_submissions_few_reviewers, solution, post_fix=\"02\")"
   ]
  },
  {
   "cell_type": "code",
   "execution_count": null,
   "id": "8ddc69f0-6408-4d4a-91eb-7e1d967aa6ab",
   "metadata": {},
   "outputs": [],
   "source": [
    "df = pd.DataFrame(submissions)\n",
    "df = df.assign(num_reviewers=df.assigned_reviewer_ids.apply(len))\n",
    "df"
   ]
  },
  {
   "cell_type": "code",
   "execution_count": null,
   "id": "e6dcb32f-b32a-42ea-b36c-49674f39ecb2",
   "metadata": {},
   "outputs": [],
   "source": [
    "df = pd.DataFrame(reviewers)\n",
    "df = df[[\"reviewer_id\", \"assigned_submission_ids\"]]\n",
    "df"
   ]
  },
  {
   "cell_type": "code",
   "execution_count": null,
   "id": "132eb314-268d-4778-bce1-dda40cbdd2a3",
   "metadata": {},
   "outputs": [],
   "source": [
    "con.sql(\"\"\"\n",
    "create or replace table reviewer_assignments_02 as\n",
    "select\n",
    "    reviewer_assignments_01.reviewer_id, tracks, conflicts_submission_ids,\n",
    "    list_concat(reviewer_assignments_01.assigned_submission_ids, df.assigned_submission_ids) as assigned_submission_ids\n",
    "from reviewer_assignments_01\n",
    "left join df on df.reviewer_id = reviewer_assignments_01.reviewer_id\n",
    "\"\"\")\n",
    "con.sql(\"table reviewer_assignments_02\")"
   ]
  },
  {
   "cell_type": "code",
   "execution_count": null,
   "id": "a5397c3f-d63f-493e-908a-47e857e09f57",
   "metadata": {},
   "outputs": [],
   "source": [
    "con.sql(\"select count(*), string_agg(reviewer_id), len(assigned_submission_ids) as num_submissions from reviewer_assignments_02 group by num_submissions\")"
   ]
  },
  {
   "cell_type": "code",
   "execution_count": null,
   "id": "2e57c7c6-d2f4-4742-83cb-f876f01574ce",
   "metadata": {},
   "outputs": [],
   "source": [
    "df = pd.DataFrame(submissions)\n",
    "df"
   ]
  },
  {
   "cell_type": "code",
   "execution_count": null,
   "id": "12ecbfa5-60bc-4c13-b209-cb686aa04c7f",
   "metadata": {},
   "outputs": [],
   "source": [
    "con.sql(\"\"\"\n",
    "create or replace table submission_assignments_02 as\n",
    "select submission_assignments_01.submission_id, submission_assignments_01.author_ids, submission_assignments_01.track,\n",
    "list_concat(submission_assignments_01.assigned_reviewer_ids, df.assigned_reviewer_ids) as assigned_reviewer_ids\n",
    "from submission_assignments_01\n",
    "left join df on df.submission_id = submission_assignments_01.submission_id\n",
    "\"\"\")\n",
    "con.sql(\"table submission_assignments_02\")"
   ]
  },
  {
   "cell_type": "markdown",
   "id": "f8186a06-981a-4f88-bde7-be4479c57697",
   "metadata": {},
   "source": [
    "## Final counts/checks"
   ]
  },
  {
   "cell_type": "markdown",
   "id": "135ef2a0-69ab-4b76-afc4-41e898ee9083",
   "metadata": {},
   "source": [
    "All submissions have at least 3 reviewers"
   ]
  },
  {
   "cell_type": "code",
   "execution_count": null,
   "id": "d8719243-645d-40d1-97ee-36e21f6cfdc9",
   "metadata": {},
   "outputs": [],
   "source": [
    "con.sql(\"\"\"\n",
    "select string_agg(submission_id), count(track), len(assigned_reviewer_ids) from submission_assignments_02 group by len(assigned_reviewer_ids)\n",
    "\"\"\")"
   ]
  },
  {
   "cell_type": "markdown",
   "id": "de1edcf3-2866-422b-ade4-b9c4caa5bbfd",
   "metadata": {},
   "source": [
    "Step 1: Only tutorial assignments"
   ]
  },
  {
   "cell_type": "code",
   "execution_count": null,
   "id": "2e3747df-88a0-4ebd-9f3c-4f0d73c4d9ce",
   "metadata": {},
   "outputs": [],
   "source": [
    "con.sql(\"\"\"\n",
    "select string_agg(reviewer_id), count(reviewer_id), string_agg(tracks), len(assigned_submission_ids) from reviewer_assignments_00 group by len(assigned_submission_ids)\n",
    "\"\"\")"
   ]
  },
  {
   "cell_type": "markdown",
   "id": "4ff68efd-6ef6-44c0-ae5e-16d8e22e230c",
   "metadata": {},
   "source": [
    "Step 2: Add talks assignments"
   ]
  },
  {
   "cell_type": "code",
   "execution_count": null,
   "id": "40ec3a7e-e444-4890-b03b-54abdc90a13d",
   "metadata": {},
   "outputs": [],
   "source": [
    "con.sql(\"\"\"\n",
    "select string_agg(reviewer_id), count(reviewer_id), string_agg(tracks), len(assigned_submission_ids) from reviewer_assignments_01 group by len(assigned_submission_ids)\n",
    "\"\"\")"
   ]
  },
  {
   "cell_type": "markdown",
   "id": "7be6ab3a-21d5-46f5-bcb1-5d1ed79573f7",
   "metadata": {},
   "source": [
    "Step 3: Assign talks to tutorial reviewers"
   ]
  },
  {
   "cell_type": "code",
   "execution_count": null,
   "id": "acea73f1-c7b1-4d32-8cca-2ab37ef6ab67",
   "metadata": {},
   "outputs": [],
   "source": [
    "con.sql(\"\"\"\n",
    "select string_agg(reviewer_id), count(reviewer_id), string_agg(tracks), len(assigned_submission_ids) from reviewer_assignments_02 group by len(assigned_submission_ids)\n",
    "\"\"\")"
   ]
  },
  {
   "cell_type": "code",
   "execution_count": null,
   "id": "aa5491c1-7086-4b54-ac34-8dd541f94767",
   "metadata": {},
   "outputs": [],
   "source": [
    "con.close()"
   ]
  },
  {
   "cell_type": "markdown",
   "id": "f993a8fb-25e1-4250-bbd6-8e67cf662659",
   "metadata": {},
   "source": [
    "## Final export"
   ]
  },
  {
   "cell_type": "code",
   "execution_count": null,
   "id": "e67db9e7-5ca8-40e9-b90b-1a4dd97fb05d",
   "metadata": {},
   "outputs": [],
   "source": [
    "import duckdb\n",
    "database_file = \"../data/assign_reviews_031024.db\"\n",
    "con = duckdb.connect(database_file)"
   ]
  },
  {
   "cell_type": "code",
   "execution_count": null,
   "id": "585bbb58-3582-41b9-b805-b9a607508f5e",
   "metadata": {},
   "outputs": [],
   "source": [
    "import json\n",
    "reviewer_assignments_final = {\n",
    "    item[\"reviewer_id\"]: item[\"assigned_submission_ids\"]\n",
    "    for item in\n",
    "    con.sql(\"table reviewer_assignments_02\").df()[[\"reviewer_id\", \"assigned_submission_ids\"]].to_dict(\"records\")\n",
    "}\n",
    "with open(f\"output/reviewer-assignments.json\", \"w\") as fp:\n",
    "        fp.write(json.dumps(reviewer_assignments_final, indent=4))"
   ]
  },
  {
   "cell_type": "code",
   "execution_count": null,
   "id": "c502cf9b-f573-4565-bc59-b98e0c0070b1",
   "metadata": {},
   "outputs": [],
   "source": [
    "con.close()"
   ]
  },
  {
   "cell_type": "code",
   "execution_count": null,
   "id": "4f88e36e-9b7e-4c4e-a43d-b7248a2f0f1e",
   "metadata": {},
   "outputs": [],
   "source": []
  }
 ],
 "metadata": {
  "kernelspec": {
   "display_name": "Python 3 (ipykernel)",
   "language": "python",
   "name": "python3"
  },
  "language_info": {
   "codemirror_mode": {
    "name": "ipython",
    "version": 3
   },
   "file_extension": ".py",
   "mimetype": "text/x-python",
   "name": "python",
   "nbconvert_exporter": "python",
   "pygments_lexer": "ipython3",
   "version": "3.9.7"
  }
 },
 "nbformat": 4,
 "nbformat_minor": 5
}
