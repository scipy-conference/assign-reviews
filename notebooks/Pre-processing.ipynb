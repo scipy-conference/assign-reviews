{
 "cells": [
  {
   "cell_type": "code",
   "execution_count": null,
   "id": "2f0334ca",
   "metadata": {},
   "outputs": [],
   "source": [
    "import duckdb\n",
    "\n",
    "# Raw data to import\n",
    "raw_files = dict(\n",
    "    scipy_reviewers = \"../data/scipy_2024_reviewers_export_031024_201500.csv\", # people who signed up as reviewers\n",
    "    pretalx_sessions = \"../data/2024_sessions.csv\", # all proposal exported from pretalx\n",
    "    pretalx_speakers = \"../data/2024_speakers.csv\", # all speakers exported from pretalx\n",
    "    pretalx_reviewers = \"../data/pretalx_reviewers_031024_212500.csv\", # all reviewers copy-pasted from pretalx\n",
    "    coi_reviewers = \"../data/scipy_2024_coi_export_031024_220100.csv\", # all responses to the coi form\n",
    "    coi_authors = \"../data/coi_authors.csv\", # copy pasted values of author names from coi form\n",
    "    tracks = \"../data/tracks.csv\" # manually entered track IDs\n",
    ")\n",
    "\n",
    "# Output\n",
    "database_file = \"../data/assign_reviews_031024.db\""
   ]
  },
  {
   "cell_type": "code",
   "execution_count": null,
   "id": "03d0f519",
   "metadata": {},
   "outputs": [],
   "source": [
    "con = duckdb.connect(database_file)"
   ]
  },
  {
   "cell_type": "code",
   "execution_count": null,
   "id": "9ce918a8-7441-4e64-bcf6-a3e6e8f864aa",
   "metadata": {},
   "outputs": [],
   "source": [
    "def create_and_show_table(file_name, table_name, show=True):\n",
    "    con.sql(f\"create or replace table {table_name} as select * from read_csv(\\\"{file_name}\\\", header=true)\")\n",
    "    if show is True:\n",
    "        return con.sql(f\"table {table_name}\")"
   ]
  },
  {
   "cell_type": "code",
   "execution_count": null,
   "id": "bd7267b9-c1f5-45c1-996b-af93c7b02f08",
   "metadata": {},
   "outputs": [],
   "source": [
    "from IPython import display\n",
    "for table_name, file_name in raw_files.items():\n",
    "    print(table_name)\n",
    "    display.display(create_and_show_table(file_name, table_name).df())\n",
    "    print(\"\\n\")"
   ]
  },
  {
   "cell_type": "code",
   "execution_count": null,
   "id": "a7570eed-6187-4b40-ac8c-ed25e4beb8cb",
   "metadata": {},
   "outputs": [],
   "source": [
    "con.sql(f\"\"\"\n",
    "table tracks\n",
    "\"\"\")"
   ]
  },
  {
   "cell_type": "code",
   "execution_count": null,
   "id": "2924fa43-915c-4c63-b715-08e2075983e4",
   "metadata": {},
   "outputs": [],
   "source": [
    "con.sql(f\"\"\"\n",
    "with dupes as\n",
    "    (\n",
    "        select\n",
    "            name,\n",
    "            num,\n",
    "            email\n",
    "        from\n",
    "            (\n",
    "                select\n",
    "                    name,\n",
    "                    count(*) as num,\n",
    "                    string_agg(Email) as email\n",
    "                from\n",
    "                    scipy_reviewers\n",
    "                    group by Name\n",
    "            )\n",
    "            where\n",
    "                num>1\n",
    "        )\n",
    "\n",
    "select * from dupes\n",
    "\"\"\").df()"
   ]
  },
  {
   "cell_type": "code",
   "execution_count": null,
   "id": "04ea463b-4151-4dfe-ae2d-08b1c763e9a0",
   "metadata": {},
   "outputs": [],
   "source": [
    "con.sql(f\"\"\"\n",
    "select count(*) from scipy_reviewers\n",
    "\"\"\")"
   ]
  },
  {
   "cell_type": "code",
   "execution_count": null,
   "id": "dd8ddb47-daf1-4ac7-abfa-39f7d839be13",
   "metadata": {},
   "outputs": [],
   "source": [
    "con.sql(f\"\"\"\n",
    "select count(*) from pretalx_reviewers\n",
    "\"\"\")"
   ]
  },
  {
   "cell_type": "code",
   "execution_count": null,
   "id": "11439a50-cfbb-403b-a0fa-cf4b91f31e11",
   "metadata": {},
   "outputs": [],
   "source": [
    "con.sql(f\"\"\"\n",
    "select count(*) from coi_reviewers\n",
    "\"\"\")"
   ]
  },
  {
   "cell_type": "markdown",
   "id": "55e81f6d-c8c9-4cfc-9770-db731068c55f",
   "metadata": {},
   "source": [
    "This is a table with all reviewers who\n",
    "1. signed up\n",
    "2. created an account on pretalx\n",
    "3. submitted the COI form"
   ]
  },
  {
   "cell_type": "code",
   "execution_count": null,
   "id": "7b9ecee5-ae65-4c49-8e6c-4ebcd6a796f2",
   "metadata": {},
   "outputs": [],
   "source": [
    "con.sql(f\"\"\"\n",
    "create or replace table reviewers as\n",
    "    select\n",
    "        scipy_reviewers.Name as name,\n",
    "        scipy_reviewers.Email as email,\n",
    "        \\\"Track(s) to review for (check all that apply)\\\" as tracks,\n",
    "        \\\"Mark the speaker(s) or company/organization/affiliation(s) that could pose a conflict of interest\\\" as coi\n",
    "    from scipy_reviewers\n",
    "    join pretalx_reviewers on scipy_reviewers.Email = pretalx_reviewers.Email\n",
    "    join coi_reviewers on coi_reviewers.Email = pretalx_reviewers.Email\n",
    "\"\"\")\n",
    "\n",
    "df = con.sql(\"select distinct * from reviewers\").df()\n",
    "num_reviewers = len(df)\n",
    "df"
   ]
  },
  {
   "cell_type": "markdown",
   "id": "461de254-93e5-4a97-b7d5-3074df212fdb",
   "metadata": {},
   "source": [
    "Reviewers who signed up for pretalx but did not fill in COI"
   ]
  },
  {
   "cell_type": "code",
   "execution_count": null,
   "id": "4221ff7c-c824-4517-820c-1f8323d95970",
   "metadata": {},
   "outputs": [],
   "source": [
    "con = duckdb.connect(database_file)"
   ]
  },
  {
   "cell_type": "code",
   "execution_count": null,
   "id": "b70bc5b8-118a-43a4-9b07-2d6dbc59eb1a",
   "metadata": {
    "scrolled": true
   },
   "outputs": [],
   "source": [
    "df = con.sql(\"select * from pretalx_reviewers anti join coi_reviewers on pretalx_reviewers.Email = coi_reviewers.Email\").df()\n",
    "num_pretalx_no_coi = len(df)\n",
    "df"
   ]
  },
  {
   "cell_type": "code",
   "execution_count": null,
   "id": "64d329e5-88f2-4107-a33f-59bdf1a98c8d",
   "metadata": {},
   "outputs": [],
   "source": [
    "# df.to_csv(\"input/signed_up_for_pretalx_no_coi.csv\")"
   ]
  },
  {
   "cell_type": "markdown",
   "id": "5c475b2b-ac98-495d-94e8-5135366523e2",
   "metadata": {},
   "source": [
    "Reviewers who filled in COI but did not sign up for pretalx"
   ]
  },
  {
   "cell_type": "code",
   "execution_count": null,
   "id": "868dcd1e-8f4a-4e01-8ad2-0538d8b4557d",
   "metadata": {
    "scrolled": true
   },
   "outputs": [],
   "source": [
    "df = con.sql(\"select * from coi_reviewers anti join pretalx_reviewers on coi_reviewers.Email = pretalx_reviewers.Email\").df()\n",
    "num_coi_no_pretalx = len(df)\n",
    "df"
   ]
  },
  {
   "cell_type": "code",
   "execution_count": null,
   "id": "c1b6f1c8-e00f-4e79-ad6c-f509591a362a",
   "metadata": {},
   "outputs": [],
   "source": [
    "# df.to_csv(\"input/submitted_coi_no_pretalx.csv\")"
   ]
  },
  {
   "cell_type": "markdown",
   "id": "c493bc49-adbc-4173-a9c0-38178c7e8135",
   "metadata": {},
   "source": [
    "People who signed up as reviewer"
   ]
  },
  {
   "cell_type": "code",
   "execution_count": null,
   "id": "edf7bf56-7884-49fa-811c-0e5b3c3c5e92",
   "metadata": {
    "scrolled": true
   },
   "outputs": [],
   "source": [
    "df = con.sql(\"\"\"\n",
    "select distinct * from scipy_reviewers\n",
    "\"\"\").df()\n",
    "num_signed_up = len(df)\n",
    "df"
   ]
  },
  {
   "cell_type": "markdown",
   "id": "0025d41a-ecf6-4c08-985f-3e30807675e3",
   "metadata": {},
   "source": [
    "People who signed up as reviewer and signed up for pretalx and submitted COI but used different email addresses"
   ]
  },
  {
   "cell_type": "code",
   "execution_count": null,
   "id": "4feef06c-985a-485c-b4f1-73d87c2f8f1c",
   "metadata": {},
   "outputs": [],
   "source": [
    "df = con.sql(\"\"\"\n",
    "create or replace table reviewers_with_email_typos as\n",
    "(with no_coi as\n",
    "(select * from pretalx_reviewers anti join coi_reviewers on pretalx_reviewers.Email = coi_reviewers.Email),\n",
    "no_pretalx as\n",
    "(select * from coi_reviewers anti join pretalx_reviewers on coi_reviewers.Email = pretalx_reviewers.Email)\n",
    "select distinct scipy_reviewers.Name, scipy_reviewers.Email, no_pretalx.Email as no_pretalx_email, no_coi.email as no_coi_email from scipy_reviewers\n",
    "join no_coi on no_coi.Name = scipy_reviewers.Name\n",
    "join no_pretalx on no_pretalx.Name = no_coi.Name)\n",
    "\"\"\")\n",
    "df = con.sql(\"table reviewers_with_email_typos\").df()\n",
    "num_typos = len(df)\n",
    "df"
   ]
  },
  {
   "cell_type": "markdown",
   "id": "5a2c83c8-29e2-412e-b84e-ab4944e650c4",
   "metadata": {},
   "source": [
    "People who signed up as reviewer and signed up for pretalx and submitted COI but used different names"
   ]
  },
  {
   "cell_type": "code",
   "execution_count": null,
   "id": "cf854063-4a88-4be2-8cd9-04fd78f1cf9f",
   "metadata": {},
   "outputs": [],
   "source": [
    "df = con.sql(\"\"\"\n",
    "(with no_coi as\n",
    "(select * from pretalx_reviewers anti join coi_reviewers on pretalx_reviewers.Email = coi_reviewers.Email),\n",
    "no_pretalx as\n",
    "(select * from coi_reviewers anti join pretalx_reviewers on coi_reviewers.Email = pretalx_reviewers.Email)\n",
    "select distinct scipy_reviewers.Name, scipy_reviewers.Email, no_pretalx.Name as no_pretalx_name, no_coi.name as no_coi_name from scipy_reviewers\n",
    "join no_coi on no_coi.Email = scipy_reviewers.Email\n",
    "join no_pretalx on no_pretalx.Email = no_coi.Email)\n",
    "\"\"\").df()\n",
    "num_typos_name = len(df)\n",
    "df"
   ]
  },
  {
   "cell_type": "code",
   "execution_count": null,
   "id": "eb7b392a",
   "metadata": {},
   "outputs": [],
   "source": [
    "# df.to_csv(\"input/reviewers_multi_email.csv\")"
   ]
  },
  {
   "cell_type": "markdown",
   "id": "4e7c6208-0e73-4447-b749-578b7f84f5a9",
   "metadata": {},
   "source": [
    "People who signed up as reviewer and didn't sign up for pretalx nor submitted COI"
   ]
  },
  {
   "cell_type": "code",
   "execution_count": null,
   "id": "d7bf3576-78e6-4367-abc0-f48e250807e4",
   "metadata": {},
   "outputs": [],
   "source": [
    "df = con.sql(\"\"\"\n",
    "(with no_coi as\n",
    "(select * from pretalx_reviewers anti join coi_reviewers on pretalx_reviewers.Email = coi_reviewers.Email),\n",
    "no_pretalx as\n",
    "(select * from coi_reviewers anti join pretalx_reviewers on coi_reviewers.Email = pretalx_reviewers.Email)\n",
    "select distinct scipy_reviewers.Name, scipy_reviewers.Email from scipy_reviewers\n",
    "anti join reviewers on reviewers.Name = scipy_reviewers.Name\n",
    "anti join no_coi on no_coi.Name = scipy_reviewers.Name\n",
    "anti join no_pretalx on no_pretalx.Name = scipy_reviewers.Name)\n",
    "\"\"\").df()\n",
    "df"
   ]
  },
  {
   "cell_type": "code",
   "execution_count": null,
   "id": "29faf2df-6c56-447a-9303-30e297ad4ca7",
   "metadata": {},
   "outputs": [],
   "source": [
    "df = con.sql(\"\"\"\n",
    "select distinct * from scipy_reviewers\n",
    "anti join reviewers on scipy_reviewers.Email = reviewers.email\n",
    "\"\"\").df()\n",
    "num_no_show = len(df)\n",
    "df"
   ]
  },
  {
   "cell_type": "code",
   "execution_count": null,
   "id": "ad4b6bb5-2698-4246-afd0-2003c9ac6bda",
   "metadata": {},
   "outputs": [],
   "source": [
    "# df.to_csv(\"input/all_reviewers_without_assignments.csv\")"
   ]
  },
  {
   "cell_type": "code",
   "execution_count": null,
   "id": "b4e2ebd4-1c7c-47b2-88a5-f12f52e3b132",
   "metadata": {},
   "outputs": [],
   "source": [
    "num_no_show = num_signed_up-num_reviewers-num_pretalx_no_coi-num_coi_no_pretalx\n",
    "num_partial = sum([num_pretalx_no_coi, num_coi_no_pretalx, num_no_show])\n",
    "num_reviewers, num_signed_up, num_pretalx_no_coi, num_coi_no_pretalx, num_no_show, num_partial"
   ]
  },
  {
   "cell_type": "code",
   "execution_count": null,
   "id": "af12d40a-1f28-4154-9ded-1f358d1d3e06",
   "metadata": {},
   "outputs": [],
   "source": [
    "con.sql(\"select * from reviewers where instr(name, 'eli')\")"
   ]
  },
  {
   "cell_type": "code",
   "execution_count": null,
   "id": "223b6992-1f77-44f7-83df-8fae78b30d29",
   "metadata": {},
   "outputs": [],
   "source": [
    "# con.sql(\"table reviewers\").df().to_csv(\"input/reviewers_to_assign_with_name.csv\")"
   ]
  },
  {
   "cell_type": "code",
   "execution_count": null,
   "id": "dbb586ee-df00-4fb9-9d16-e3e5d570c3de",
   "metadata": {},
   "outputs": [],
   "source": [
    "con.sql(\"select * from reviewers where instr(Name, 'Wu')\")"
   ]
  },
  {
   "cell_type": "code",
   "execution_count": null,
   "id": "d82591ec-8532-4b0b-bcf5-ebbc7275c266",
   "metadata": {},
   "outputs": [],
   "source": [
    "sum([num_pretalx_no_coi, num_coi_no_pretalx, num_reviewers])"
   ]
  },
  {
   "cell_type": "code",
   "execution_count": null,
   "id": "e1b3cbed-547b-49b8-80e6-4ab0df57b08f",
   "metadata": {},
   "outputs": [],
   "source": [
    "con.sql(f\"\"\"\n",
    "with dupes as\n",
    "    (\n",
    "        select\n",
    "            *\n",
    "        from\n",
    "            (\n",
    "                select\n",
    "                    name,\n",
    "                    count(*) as num,\n",
    "                    string_agg(email) as email,\n",
    "                    string_agg(tracks) as tracks,\n",
    "                    string_agg(coi) as coi\n",
    "                from\n",
    "                    reviewers\n",
    "                    group by name\n",
    "            )\n",
    "            where\n",
    "                num>1\n",
    "        )\n",
    "\n",
    "select * from dupes\n",
    "\"\"\").df().T.to_json()"
   ]
  },
  {
   "cell_type": "code",
   "execution_count": null,
   "id": "fa1a29e2-b27c-4ed4-a075-4c726e6dda48",
   "metadata": {},
   "outputs": [],
   "source": [
    "con.sql(\"create or replace table reviewers as (select distinct * from reviewers)\")"
   ]
  },
  {
   "cell_type": "code",
   "execution_count": null,
   "id": "2a548f2e-6b79-4c28-8b57-1efae53694ec",
   "metadata": {},
   "outputs": [],
   "source": [
    "con.sql(f\"\"\"\n",
    "create or replace table reviewers_with_tracks as\n",
    "with reviewers_no_dupes as (select distinct * from reviewers)\n",
    "select reviewers_no_dupes.name, email, list(tracks.name) as tracks, list(tracks.track_id) as track_ids from reviewers_no_dupes\n",
    "    join tracks on instr(reviewers_no_dupes.tracks, tracks.name)\n",
    "    group by reviewers_no_dupes.name, email\n",
    "\"\"\"\n",
    ")\n",
    "\n",
    "con.sql(\"select distinct * from reviewers_with_tracks\")"
   ]
  },
  {
   "cell_type": "code",
   "execution_count": null,
   "id": "3427dba1-d840-46a2-a304-7a643c1aeee0",
   "metadata": {},
   "outputs": [],
   "source": [
    "con.sql(\"select ID as submission_id, \\\"Speaker IDs\\\" as speaker_ids from pretalx_sessions\")"
   ]
  },
  {
   "cell_type": "code",
   "execution_count": null,
   "id": "0657b537-bd53-426a-9345-ceca87f36a73",
   "metadata": {},
   "outputs": [],
   "source": [
    "con.sql(f\"\"\"\n",
    "create or replace table reviewers_with_coi as\n",
    "\n",
    "with submissions_with_authors as (\n",
    "    select\n",
    "        ID as submission_id,\n",
    "        \\\"Speaker IDs\\\" as speaker_ids\n",
    "    from\n",
    "        pretalx_sessions\n",
    ")\n",
    "select\n",
    "    reviewers.name,\n",
    "    reviewers.email,\n",
    "    list(pretalx_speakers.Name) as speakers,\n",
    "    list(pretalx_speakers.ID) AS speaker_ids,\n",
    "    list(submissions_with_authors.submission_id) as submission_ids\n",
    "from\n",
    "    reviewers\n",
    "    left join coi_authors on instr(coi, coi_authors.author)\n",
    "    left join pretalx_speakers on contains(coi_authors.author, pretalx_speakers.Name)\n",
    "    left join submissions_with_authors on contains(submissions_with_authors.speaker_ids, pretalx_speakers.ID)\n",
    "group by reviewers.name, reviewers.email\n",
    "order by reviewers.name\n",
    "\"\"\"\n",
    ")\n",
    "\n",
    "con.sql(\"table reviewers_with_coi\")"
   ]
  },
  {
   "cell_type": "code",
   "execution_count": null,
   "id": "ffef4114-385b-44b0-9bc1-f21a8a1402ed",
   "metadata": {},
   "outputs": [],
   "source": [
    "con.sql(\"\"\"\n",
    "with reviewers_with_coi_pre as (\n",
    "    select name, email, author\n",
    "    from reviewers\n",
    "    join coi_authors on instr(coi, coi_authors.author)\n",
    ")\n",
    "select count(*), author from reviewers_with_coi_pre anti join pretalx_speakers on contains(reviewers_with_coi_pre.author, pretalx_speakers.Name) group by author\n",
    "\"\"\")"
   ]
  },
  {
   "cell_type": "code",
   "execution_count": null,
   "id": "acdd01c4-eb7b-4f80-a8dc-462a9bc5508b",
   "metadata": {},
   "outputs": [],
   "source": [
    "con.sql(\"table reviewers_with_tracks\").df()"
   ]
  },
  {
   "cell_type": "code",
   "execution_count": null,
   "id": "90185548-bfdd-47d1-bdac-d95af43b8c0f",
   "metadata": {},
   "outputs": [],
   "source": [
    "con.sql(\"select email as reviewer_id, list(track_id) as tracks from reviewers_with_tracks group by email\")"
   ]
  },
  {
   "cell_type": "markdown",
   "id": "adeb8dcc-614c-430e-a65f-932ee13a881c",
   "metadata": {},
   "source": [
    "# Final tables for script"
   ]
  },
  {
   "cell_type": "markdown",
   "id": "cac7157c-c2eb-4f2e-bd02-cc2fe788afc4",
   "metadata": {},
   "source": [
    "## reviewers_to_assign"
   ]
  },
  {
   "cell_type": "code",
   "execution_count": null,
   "id": "183fabc0-a5fa-446d-9375-381cd75ff7c7",
   "metadata": {},
   "outputs": [],
   "source": [
    "con.sql(\"\"\"\n",
    "create or replace table reviewers_to_assign as\n",
    "select\n",
    "    reviewers_with_coi.email as reviewer_id,\n",
    "    reviewers_with_tracks.track_ids as tracks,\n",
    "    reviewers_with_coi.submission_ids as conflicts_submission_ids\n",
    "from reviewers_with_coi\n",
    "join reviewers_with_tracks on reviewers_with_tracks.email = reviewers_with_coi.email\n",
    "\"\"\")\n",
    "\n",
    "con.sql(\"table reviewers_to_assign\").df()"
   ]
  },
  {
   "cell_type": "code",
   "execution_count": null,
   "id": "4c1facf8-046c-49e0-b21b-67c2d7b5dc64",
   "metadata": {},
   "outputs": [],
   "source": [
    "# con.sql(\"table reviewers_to_assign\").df().to_csv(\"input/reviewers_to_assign.csv\")"
   ]
  },
  {
   "cell_type": "markdown",
   "id": "5f717e8c-9b97-4666-a2c7-80ab491d61af",
   "metadata": {},
   "source": [
    "## submissions_to_assign"
   ]
  },
  {
   "cell_type": "code",
   "execution_count": null,
   "id": "34f07bb1-101e-45f1-8598-e6a459393de9",
   "metadata": {},
   "outputs": [],
   "source": [
    "con.sql(\"\"\"\n",
    "create or replace table submissions_to_assign as\n",
    "select\n",
    "    ID as submission_id,\n",
    "    string_split(\\\"Speaker IDs\\\", '\\n') as author_ids,\n",
    "    track_id as track\n",
    "from pretalx_sessions\n",
    "    join tracks on pretalx_sessions.Track = tracks.name\n",
    "\"\"\")\n",
    "\n",
    "con.sql(\"table submissions_to_assign\").df()"
   ]
  },
  {
   "cell_type": "code",
   "execution_count": null,
   "id": "59c00158-ce1b-4f58-9cff-dbb34a5cd8af",
   "metadata": {},
   "outputs": [],
   "source": [
    "# con.sql(\"table submissions_to_assign\").df().to_csv(\"input/submissions_to_assign.csv\")"
   ]
  },
  {
   "cell_type": "code",
   "execution_count": null,
   "id": "d2c113b9-e32f-40c9-ab97-df975d12f741",
   "metadata": {},
   "outputs": [],
   "source": [
    "# con.sql(\"table submissions_to_assign\").df().author_ids.iloc[1]"
   ]
  },
  {
   "cell_type": "code",
   "execution_count": null,
   "id": "a5c7a0fd-b18e-4f57-b0ef-23fdd06531ff",
   "metadata": {},
   "outputs": [],
   "source": [
    "con.close()"
   ]
  },
  {
   "cell_type": "code",
   "execution_count": null,
   "id": "e6dd57d1-49cb-42e3-a774-81b2d2dca2a0",
   "metadata": {},
   "outputs": [],
   "source": []
  }
 ],
 "metadata": {
  "kernelspec": {
   "display_name": "Python 3 (ipykernel)",
   "language": "python",
   "name": "python3"
  },
  "language_info": {
   "codemirror_mode": {
    "name": "ipython",
    "version": 3
   },
   "file_extension": ".py",
   "mimetype": "text/x-python",
   "name": "python",
   "nbconvert_exporter": "python",
   "pygments_lexer": "ipython3",
   "version": "3.9.7"
  }
 },
 "nbformat": 4,
 "nbformat_minor": 5
}
